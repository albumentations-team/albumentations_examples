{
 "cells": [
  {
   "cell_type": "markdown",
   "id": "08adc1a8-2c82-4d3f-a353-52cde177b227",
   "metadata": {},
   "source": [
    "# Example on how load and save from Hugging Face Hub\n",
    "\n",
    "[Source](https://colab.research.google.com/drive/1Uqy8i6G4og6awtNmJGatqek2mgBzvvXu?usp=sharing#scrollTo=F7ouGeDwYzZt)\n",
    "\n",
    "Author: [Pavel Iakubovskii](https://www.linkedin.com/in/pavel-iakubovskii/)"
   ]
  },
  {
   "cell_type": "code",
   "execution_count": null,
   "id": "f8b5a083-5fe3-48ed-a299-0d905f7a8161",
   "metadata": {},
   "outputs": [],
   "source": [
    "!pip install -U albumentations"
   ]
  },
  {
   "cell_type": "code",
   "execution_count": null,
   "id": "d889cdf0-c38f-49f0-9273-91f92e953997",
   "metadata": {},
   "outputs": [],
   "source": [
    "from huggingface_hub import notebook_login"
   ]
  },
  {
   "cell_type": "code",
   "execution_count": null,
   "id": "dd174f54-b775-4cb4-88e4-343ed7586131",
   "metadata": {},
   "outputs": [],
   "source": [
    "notebook_login()"
   ]
  },
  {
   "cell_type": "code",
   "execution_count": null,
   "id": "fe64b254-dc4a-423c-832c-271621b46e89",
   "metadata": {},
   "outputs": [],
   "source": [
    "import albumentations as A\n",
    "import numpy as np\n",
    "\n",
    "transform = A.Compose([\n",
    "    A.RandomCrop(256, 256),\n",
    "    A.HorizontalFlip(),\n",
    "    A.RandomBrightnessContrast(),\n",
    "    A.RGBShift(),\n",
    "    A.Normalize(),\n",
    "])\n",
    "\n",
    "evaluation_transform = A.Compose([\n",
    "    A.PadIfNeeded(256, 256),\n",
    "    A.Normalize(),\n",
    "])\n",
    "\n",
    "transform.save_pretrained(\"qubvel-hf/albu\", key=\"train\")\n",
    "# ^ this will save the transform to a directory \"qubvel-hf/albu\" with filename \"albumentations_config_train.json\"\n",
    "\n",
    "transform.save_pretrained(\"qubvel-hf/albu\", key=\"train\", push_to_hub=True)\n",
    "# ^ this will save the transform to a directory \"qubvel-hf/albu\" with filename \"albumentations_config_train.json\"\n",
    "# + push the transform to the Hub to the repository \"qubvel-hf/albu\"\n",
    "\n",
    "transform.push_to_hub(\"qubvel-hf/albu\", key=\"train\")\n",
    "# ^ this will push the transform to the Hub to the repository \"qubvel-hf/albu\" (without saving it locally)\n",
    "\n",
    "loaded_transform = A.Compose.from_pretrained(\"qubvel-hf/albu\", key=\"train\")\n",
    "# ^ this will load the transform from local folder if exist or from the Hub repository \"qubvel-hf/albu\"\n",
    "\n",
    "evaluation_transform.save_pretrained(\"qubvel-hf/albu\", key=\"eval\", push_to_hub=True)\n",
    "# ^ this will save the transform to a directory \"qubvel-hf/albu\" with filename \"albumentations_config_eval.json\"\n",
    "\n",
    "loaded_evaluation_transform = A.Compose.from_pretrained(\"qubvel-hf/albu\", key=\"eval\")\n",
    "# ^ this will load the transform from the Hub repository \"qubvel-hf/albu\""
   ]
  },
  {
   "cell_type": "code",
   "execution_count": null,
   "id": "1a32b401-8e5e-43be-ac54-1709274ceedd",
   "metadata": {},
   "outputs": [],
   "source": [
    "# check\n",
    "import numpy as np\n",
    "\n",
    "image = np.random.randint(0, 255, (100, 200, 3), dtype=np.uint8)\n",
    "\n",
    "preprocessed_image_1 = evaluation_transform(image=image)[\"image\"]\n",
    "preprocessed_image_2 = loaded_evaluation_transform(image=image)[\"image\"]\n",
    "\n",
    "assert np.allclose(preprocessed_image_1, preprocessed_image_2)"
   ]
  }
 ],
 "metadata": {
  "language_info": {
   "name": "python"
  }
 },
 "nbformat": 4,
 "nbformat_minor": 5
}
