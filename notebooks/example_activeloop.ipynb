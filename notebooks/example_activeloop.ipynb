{
 "cells": [
  {
   "cell_type": "code",
   "execution_count": null,
   "metadata": {},
   "outputs": [
    {
     "name": "stdout",
     "output_type": "stream",
     "text": [
      "Requirement already satisfied: uv in /Users/vladimiriglovikov/anaconda3/envs/albumentations_examples/lib/python3.10/site-packages (0.2.29)\n",
      "\u001b[2mAudited \u001b[1m1 package\u001b[0m \u001b[2min 21ms\u001b[0m\u001b[0m\n",
      "\u001b[2mAudited \u001b[1m1 package\u001b[0m \u001b[2min 7ms\u001b[0m\u001b[0m\n",
      "\u001b[2mAudited \u001b[1m1 package\u001b[0m \u001b[2min 4ms\u001b[0m\u001b[0m\n",
      "\u001b[2mAudited \u001b[1m1 package\u001b[0m \u001b[2min 4ms\u001b[0m\u001b[0m\n",
      "\u001b[2mAudited \u001b[1m1 package\u001b[0m \u001b[2min 4ms\u001b[0m\u001b[0m\n"
     ]
    }
   ],
   "source": [
    "!pip install uv\n",
    "!uv pip install deeplake\n",
    "!uv pip install albumentations\n",
    "!uv pip install flask\n",
    "!uv pip install pycocotools\n",
    "!uv pip install tqdm"
   ]
  },
  {
   "cell_type": "code",
   "execution_count": null,
   "metadata": {},
   "outputs": [],
   "source": [
    "from pathlib import Path\n",
    "\n",
    "import numpy as np\n",
    "from pycocotools.coco import COCO\n",
    "from tqdm import tqdm_notebook as tqdm"
   ]
  },
  {
   "cell_type": "code",
   "execution_count": null,
   "metadata": {},
   "outputs": [],
   "source": [
    "import deeplake"
   ]
  },
  {
   "cell_type": "code",
   "execution_count": null,
   "metadata": {},
   "outputs": [
    {
     "data": {
      "text/plain": [
       "'3.9.26'"
      ]
     },
     "execution_count": null,
     "metadata": {},
     "output_type": "execute_result"
    }
   ],
   "source": [
    "deeplake.__version__"
   ]
  },
  {
   "cell_type": "code",
   "execution_count": null,
   "metadata": {},
   "outputs": [],
   "source": [
    "data_path = Path(\"~/data/coco\").expanduser()"
   ]
  },
  {
   "cell_type": "code",
   "execution_count": null,
   "metadata": {},
   "outputs": [],
   "source": [
    "coco_annotation_file = data_path / \"annotations/instances_val2017.json\""
   ]
  },
  {
   "cell_type": "code",
   "execution_count": null,
   "metadata": {},
   "outputs": [
    {
     "name": "stdout",
     "output_type": "stream",
     "text": [
      "loading annotations into memory...\n",
      "Done (t=0.25s)\n",
      "creating index...\n",
      "index created!\n"
     ]
    }
   ],
   "source": [
    "image_dir = data_path / \"val2017\"\n",
    "coco = COCO(coco_annotation_file)\n",
    "image_ids = coco.getImgIds()\n",
    "images = coco.loadImgs(image_ids)"
   ]
  },
  {
   "cell_type": "code",
   "execution_count": null,
   "metadata": {},
   "outputs": [],
   "source": [
    "deeplake_path = data_path / \"deeplake\""
   ]
  },
  {
   "cell_type": "code",
   "execution_count": null,
   "metadata": {},
   "outputs": [
    {
     "name": "stdout",
     "output_type": "stream",
     "text": [
      "/Users/vladimiriglovikov/data/coco/deeplake loaded successfully.\n"
     ]
    },
    {
     "name": "stderr",
     "output_type": "stream",
     "text": []
    }
   ],
   "source": [
    "# Create a new Deeplake dataset\n",
    "ds = deeplake.empty(deeplake_path, overwrite=True)"
   ]
  },
  {
   "cell_type": "code",
   "execution_count": null,
   "metadata": {},
   "outputs": [
    {
     "data": {
      "text/plain": [
       "Tensor(key='categories')"
      ]
     },
     "execution_count": null,
     "metadata": {},
     "output_type": "execute_result"
    }
   ],
   "source": [
    "# Add tensors to the dataset\n",
    "ds.create_tensor(\"images\", htype=\"image\", sample_compression=\"jpeg\")\n",
    "ds.create_tensor(\"bounding_boxes\", htype=\"bbox\")\n",
    "ds.create_tensor(\"categories\", htype=\"class_label\", class_names=list(coco.cats.keys()))"
   ]
  },
  {
   "cell_type": "code",
   "execution_count": null,
   "metadata": {},
   "outputs": [
    {
     "data": {
      "text/plain": [
       "PosixPath('/Users/vladimiriglovikov/data/coco/val2017')"
      ]
     },
     "execution_count": null,
     "metadata": {},
     "output_type": "execute_result"
    }
   ],
   "source": [
    "image_dir"
   ]
  },
  {
   "cell_type": "code",
   "execution_count": null,
   "metadata": {},
   "outputs": [
    {
     "data": {
      "application/vnd.jupyter.widget-view+json": {
       "model_id": "160be900e05a4b3a9c094bf1bc4cfd91",
       "version_major": 2,
       "version_minor": 0
      },
      "text/plain": [
       "  0%|          | 0/5000 [00:00<?, ?it/s]"
      ]
     },
     "metadata": {},
     "output_type": "display_data"
    },
    {
     "name": "stderr",
     "output_type": "stream",
     "text": [
      "/Users/vladimiriglovikov/anaconda3/envs/albumentations_examples/lib/python3.10/site-packages/deeplake/core/chunk/base_chunk.py:422: UserWarning: Grayscale images will be reshaped from (H, W) to (H, W, 1) to match tensor dimensions. This warning will be shown only once.\n",
      "  warnings.warn(message)\n"
     ]
    }
   ],
   "source": [
    "for img_id in tqdm(image_ids):\n",
    "    # Load image info and annotations\n",
    "    img_info = coco.loadImgs(img_id)[0]\n",
    "    ann_ids = coco.getAnnIds(imgIds=img_id)\n",
    "    anns = coco.loadAnns(ann_ids)\n",
    "\n",
    "    with ds:\n",
    "        ds.append(\n",
    "            {\n",
    "                \"images\": deeplake.read(f\"{image_dir}/{img_info['file_name']}\"),\n",
    "                \"bounding_boxes\": [ann[\"bbox\"] for ann in anns],\n",
    "                \"categories\": [ann[\"category_id\"] for ann in anns],\n",
    "            }\n",
    "        )"
   ]
  },
  {
   "cell_type": "code",
   "execution_count": null,
   "metadata": {},
   "outputs": [
    {
     "name": "stdout",
     "output_type": "stream",
     "text": [
      "Dataset(path='/Users/vladimiriglovikov/data/coco/deeplake', tensors=['images', 'bounding_boxes', 'categories'])\n",
      "\n",
      "     tensor         htype                 shape               dtype  compression\n",
      "    -------        -------               -------             -------  ------- \n",
      "     images         image     (6122, 145:640, 200:640, 1:3)   uint8    jpeg   \n",
      " bounding_boxes     bbox            (6122, 0:63, 0:4)        float32   None   \n",
      "   categories    class_label          (6122, 0:63)           uint32    None   \n"
     ]
    }
   ],
   "source": [
    "ds.summary()"
   ]
  },
  {
   "cell_type": "code",
   "execution_count": null,
   "metadata": {},
   "outputs": [
    {
     "data": {
      "text/html": [
       "\n",
       "        <iframe\n",
       "            width=\"90%\"\n",
       "            height=\"800\"\n",
       "            src=\"https://app.activeloop.ai/visualizer/hub?url=http://localhost:64299/91d6a4da-4028-4d74-8fa8-82252d334dc7/&link_creds_url=http://localhost:64299/creds/9c24b3bc-d22e-4b65-b661-1611210cc2f0/\"\n",
       "            frameborder=\"0\"\n",
       "            allowfullscreen\n",
       "            \n",
       "        ></iframe>\n",
       "        "
      ],
      "text/plain": [
       "<IPython.lib.display.IFrame at 0x48a9eb4c0>"
      ]
     },
     "metadata": {},
     "output_type": "display_data"
    }
   ],
   "source": [
    "ds.visualize()"
   ]
  },
  {
   "cell_type": "code",
   "execution_count": null,
   "metadata": {},
   "outputs": [
    {
     "name": "stderr",
     "output_type": "stream",
     "text": [
      "  0%|          | 0/6122 [00:00<?, ?it/s]\n"
     ]
    },
    {
     "ename": "TypeError",
     "evalue": "list indices must be integers or slices, not dict",
     "output_type": "error",
     "traceback": [
      "\u001b[0;31m---------------------------------------------------------------------------\u001b[0m",
      "\u001b[0;31mTypeError\u001b[0m                                 Traceback (most recent call last)",
      "Cell \u001b[0;32mIn[103], line 1\u001b[0m\n\u001b[0;32m----> 1\u001b[0m dogs \u001b[38;5;241m=\u001b[39m \u001b[43mds\u001b[49m\u001b[38;5;241;43m.\u001b[39;49m\u001b[43mfilter\u001b[49m\u001b[43m(\u001b[49m\u001b[38;5;28;43;01mlambda\u001b[39;49;00m\u001b[43m \u001b[49m\u001b[43msample\u001b[49m\u001b[43m:\u001b[49m\u001b[43m \u001b[49m\u001b[38;5;124;43m'\u001b[39;49m\u001b[38;5;124;43mdog\u001b[39;49m\u001b[38;5;124;43m'\u001b[39;49m\u001b[43m \u001b[49m\u001b[38;5;129;43;01min\u001b[39;49;00m\u001b[43m \u001b[49m\u001b[43msample\u001b[49m\u001b[38;5;241;43m.\u001b[39;49m\u001b[43mcategories\u001b[49m\u001b[38;5;241;43m.\u001b[39;49m\u001b[43minfo\u001b[49m\u001b[38;5;241;43m.\u001b[39;49m\u001b[43mclass_names\u001b[49m\u001b[43m[\u001b[49m\u001b[43msample\u001b[49m\u001b[38;5;241;43m.\u001b[39;49m\u001b[43mcategories\u001b[49m\u001b[38;5;241;43m.\u001b[39;49m\u001b[43mdata\u001b[49m\u001b[43m(\u001b[49m\u001b[43m)\u001b[49m\u001b[43m]\u001b[49m\u001b[43m)\u001b[49m\n",
      "File \u001b[0;32m~/anaconda3/envs/albumentations_examples/lib/python3.10/site-packages/deeplake/core/dataset/dataset.py:2349\u001b[0m, in \u001b[0;36mDataset.filter\u001b[0;34m(self, function, num_workers, scheduler, progressbar, save_result, result_path, result_ds_args)\u001b[0m\n\u001b[1;32m   2338\u001b[0m deeplake_reporter\u001b[38;5;241m.\u001b[39mfeature_report(\n\u001b[1;32m   2339\u001b[0m     feature_name\u001b[38;5;241m=\u001b[39m\u001b[38;5;124m\"\u001b[39m\u001b[38;5;124mfilter\u001b[39m\u001b[38;5;124m\"\u001b[39m,\n\u001b[1;32m   2340\u001b[0m     parameters\u001b[38;5;241m=\u001b[39m{\n\u001b[0;32m   (...)\u001b[0m\n\u001b[1;32m   2345\u001b[0m     },\n\u001b[1;32m   2346\u001b[0m )\n\u001b[1;32m   2348\u001b[0m fn \u001b[38;5;241m=\u001b[39m query_dataset \u001b[38;5;28;01mif\u001b[39;00m \u001b[38;5;28misinstance\u001b[39m(function, \u001b[38;5;28mstr\u001b[39m) \u001b[38;5;28;01melse\u001b[39;00m filter_dataset\n\u001b[0;32m-> 2349\u001b[0m ret \u001b[38;5;241m=\u001b[39m \u001b[43mfn\u001b[49m\u001b[43m(\u001b[49m\n\u001b[1;32m   2350\u001b[0m \u001b[43m    \u001b[49m\u001b[38;5;28;43mself\u001b[39;49m\u001b[43m,\u001b[49m\n\u001b[1;32m   2351\u001b[0m \u001b[43m    \u001b[49m\u001b[43mfunction\u001b[49m\u001b[43m,\u001b[49m\n\u001b[1;32m   2352\u001b[0m \u001b[43m    \u001b[49m\u001b[43mnum_workers\u001b[49m\u001b[38;5;241;43m=\u001b[39;49m\u001b[43mnum_workers\u001b[49m\u001b[43m,\u001b[49m\n\u001b[1;32m   2353\u001b[0m \u001b[43m    \u001b[49m\u001b[43mscheduler\u001b[49m\u001b[38;5;241;43m=\u001b[39;49m\u001b[43mscheduler\u001b[49m\u001b[43m,\u001b[49m\n\u001b[1;32m   2354\u001b[0m \u001b[43m    \u001b[49m\u001b[43mprogressbar\u001b[49m\u001b[38;5;241;43m=\u001b[39;49m\u001b[43mprogressbar\u001b[49m\u001b[43m,\u001b[49m\n\u001b[1;32m   2355\u001b[0m \u001b[43m    \u001b[49m\u001b[43msave_result\u001b[49m\u001b[38;5;241;43m=\u001b[39;49m\u001b[43msave_result\u001b[49m\u001b[43m,\u001b[49m\n\u001b[1;32m   2356\u001b[0m \u001b[43m    \u001b[49m\u001b[43mresult_path\u001b[49m\u001b[38;5;241;43m=\u001b[39;49m\u001b[43mresult_path\u001b[49m\u001b[43m,\u001b[49m\n\u001b[1;32m   2357\u001b[0m \u001b[43m    \u001b[49m\u001b[43mresult_ds_args\u001b[49m\u001b[38;5;241;43m=\u001b[39;49m\u001b[43mresult_ds_args\u001b[49m\u001b[43m,\u001b[49m\n\u001b[1;32m   2358\u001b[0m \u001b[43m\u001b[49m\u001b[43m)\u001b[49m\n\u001b[1;32m   2359\u001b[0m dataset_read(\u001b[38;5;28mself\u001b[39m)\n\u001b[1;32m   2360\u001b[0m \u001b[38;5;28;01mreturn\u001b[39;00m ret\n",
      "File \u001b[0;32m~/anaconda3/envs/albumentations_examples/lib/python3.10/site-packages/deeplake/core/query/filter.py:116\u001b[0m, in \u001b[0;36mfilter_dataset\u001b[0;34m(dataset, filter_function, num_workers, scheduler, progressbar, save_result, result_path, result_ds_args)\u001b[0m\n\u001b[1;32m    114\u001b[0m     \u001b[38;5;28;01mif\u001b[39;00m vds:\n\u001b[1;32m    115\u001b[0m         vds\u001b[38;5;241m.\u001b[39minfo[\u001b[38;5;124m\"\u001b[39m\u001b[38;5;124merror\u001b[39m\u001b[38;5;124m\"\u001b[39m] \u001b[38;5;241m=\u001b[39m \u001b[38;5;28mstr\u001b[39m(e)\n\u001b[0;32m--> 116\u001b[0m     \u001b[38;5;28;01mraise\u001b[39;00m e\n\u001b[1;32m    118\u001b[0m ds \u001b[38;5;241m=\u001b[39m dataset[index_map]\n\u001b[1;32m    119\u001b[0m ds\u001b[38;5;241m.\u001b[39m_is_filtered_view \u001b[38;5;241m=\u001b[39m \u001b[38;5;28;01mTrue\u001b[39;00m\n",
      "File \u001b[0;32m~/anaconda3/envs/albumentations_examples/lib/python3.10/site-packages/deeplake/core/query/filter.py:106\u001b[0m, in \u001b[0;36mfilter_dataset\u001b[0;34m(dataset, filter_function, num_workers, scheduler, progressbar, save_result, result_path, result_ds_args)\u001b[0m\n\u001b[1;32m     96\u001b[0m         index_map \u001b[38;5;241m=\u001b[39m filter_with_compute(\n\u001b[1;32m     97\u001b[0m             dataset,\n\u001b[1;32m     98\u001b[0m             filter_function,\n\u001b[0;32m   (...)\u001b[0m\n\u001b[1;32m    103\u001b[0m             vds,\n\u001b[1;32m    104\u001b[0m         )\n\u001b[1;32m    105\u001b[0m     \u001b[38;5;28;01melse\u001b[39;00m:\n\u001b[0;32m--> 106\u001b[0m         index_map \u001b[38;5;241m=\u001b[39m \u001b[43mfilter_inplace\u001b[49m\u001b[43m(\u001b[49m\n\u001b[1;32m    107\u001b[0m \u001b[43m            \u001b[49m\u001b[43mdataset\u001b[49m\u001b[43m,\u001b[49m\n\u001b[1;32m    108\u001b[0m \u001b[43m            \u001b[49m\u001b[43mfilter_function\u001b[49m\u001b[43m,\u001b[49m\n\u001b[1;32m    109\u001b[0m \u001b[43m            \u001b[49m\u001b[43mprogressbar\u001b[49m\u001b[43m,\u001b[49m\n\u001b[1;32m    110\u001b[0m \u001b[43m            \u001b[49m\u001b[43mquery_text\u001b[49m\u001b[43m,\u001b[49m\n\u001b[1;32m    111\u001b[0m \u001b[43m            \u001b[49m\u001b[43mvds\u001b[49m\u001b[43m,\u001b[49m\n\u001b[1;32m    112\u001b[0m \u001b[43m        \u001b[49m\u001b[43m)\u001b[49m\n\u001b[1;32m    113\u001b[0m \u001b[38;5;28;01mexcept\u001b[39;00m \u001b[38;5;167;01mException\u001b[39;00m \u001b[38;5;28;01mas\u001b[39;00m e:\n\u001b[1;32m    114\u001b[0m     \u001b[38;5;28;01mif\u001b[39;00m vds:\n",
      "File \u001b[0;32m~/anaconda3/envs/albumentations_examples/lib/python3.10/site-packages/deeplake/core/query/filter.py:344\u001b[0m, in \u001b[0;36mfilter_inplace\u001b[0;34m(dataset, filter_function, progressbar, query_text, vds)\u001b[0m\n\u001b[1;32m    336\u001b[0m     \u001b[38;5;28;01mif\u001b[39;00m vds:\n\u001b[1;32m    337\u001b[0m         dataset\u001b[38;5;241m.\u001b[39m_send_query_progress(\n\u001b[1;32m    338\u001b[0m             query_text\u001b[38;5;241m=\u001b[39mquery_text,\n\u001b[1;32m    339\u001b[0m             query_id\u001b[38;5;241m=\u001b[39mquery_id,\n\u001b[0;32m   (...)\u001b[0m\n\u001b[1;32m    342\u001b[0m             status\u001b[38;5;241m=\u001b[39m\u001b[38;5;124m\"\u001b[39m\u001b[38;5;124mfailed\u001b[39m\u001b[38;5;124m\"\u001b[39m,\n\u001b[1;32m    343\u001b[0m         )\n\u001b[0;32m--> 344\u001b[0m     \u001b[38;5;28;01mraise\u001b[39;00m (e)\n\u001b[1;32m    345\u001b[0m \u001b[38;5;28;01mfinally\u001b[39;00m:\n\u001b[1;32m    346\u001b[0m     _del_counter(query_id)\n",
      "File \u001b[0;32m~/anaconda3/envs/albumentations_examples/lib/python3.10/site-packages/deeplake/core/query/filter.py:314\u001b[0m, in \u001b[0;36mfilter_inplace\u001b[0;34m(dataset, filter_function, progressbar, query_text, vds)\u001b[0m\n\u001b[1;32m    312\u001b[0m \u001b[38;5;28;01mtry\u001b[39;00m:\n\u001b[1;32m    313\u001b[0m     \u001b[38;5;28;01mfor\u001b[39;00m i, sample_in \u001b[38;5;129;01min\u001b[39;00m it:\n\u001b[0;32m--> 314\u001b[0m         \u001b[38;5;28;01mif\u001b[39;00m \u001b[43mfilter_function\u001b[49m\u001b[43m(\u001b[49m\u001b[43msample_in\u001b[49m\u001b[43m)\u001b[49m:\n\u001b[1;32m    315\u001b[0m             index_map\u001b[38;5;241m.\u001b[39mappend(i)\n\u001b[1;32m    316\u001b[0m             \u001b[38;5;28;01mif\u001b[39;00m vds:\n",
      "Cell \u001b[0;32mIn[103], line 1\u001b[0m, in \u001b[0;36m<lambda>\u001b[0;34m(sample)\u001b[0m\n\u001b[0;32m----> 1\u001b[0m dogs \u001b[38;5;241m=\u001b[39m ds\u001b[38;5;241m.\u001b[39mfilter(\u001b[38;5;28;01mlambda\u001b[39;00m sample: \u001b[38;5;124m'\u001b[39m\u001b[38;5;124mdog\u001b[39m\u001b[38;5;124m'\u001b[39m \u001b[38;5;129;01min\u001b[39;00m \u001b[43msample\u001b[49m\u001b[38;5;241;43m.\u001b[39;49m\u001b[43mcategories\u001b[49m\u001b[38;5;241;43m.\u001b[39;49m\u001b[43minfo\u001b[49m\u001b[38;5;241;43m.\u001b[39;49m\u001b[43mclass_names\u001b[49m\u001b[43m[\u001b[49m\u001b[43msample\u001b[49m\u001b[38;5;241;43m.\u001b[39;49m\u001b[43mcategories\u001b[49m\u001b[38;5;241;43m.\u001b[39;49m\u001b[43mdata\u001b[49m\u001b[43m(\u001b[49m\u001b[43m)\u001b[49m\u001b[43m]\u001b[49m)\n",
      "\u001b[0;31mTypeError\u001b[0m: list indices must be integers or slices, not dict"
     ]
    }
   ],
   "source": [
    "dogs = ds.filter(lambda sample: \"dog\" in sample.categories.info.class_names[sample.categories.data()])"
   ]
  },
  {
   "cell_type": "code",
   "execution_count": null,
   "metadata": {},
   "outputs": [
    {
     "name": "stderr",
     "output_type": "stream",
     "text": [
      "  0%|          | 0/6122 [00:00<?, ?it/s]\n"
     ]
    },
    {
     "ename": "TypeError",
     "evalue": "only integer scalar arrays can be converted to a scalar index",
     "output_type": "error",
     "traceback": [
      "\u001b[0;31m---------------------------------------------------------------------------\u001b[0m",
      "\u001b[0;31mTypeError\u001b[0m                                 Traceback (most recent call last)",
      "Cell \u001b[0;32mIn[106], line 16\u001b[0m\n\u001b[1;32m     12\u001b[0m     \u001b[38;5;28;01melse\u001b[39;00m:\n\u001b[1;32m     13\u001b[0m         \u001b[38;5;66;03m# If it's a single value, we check just that one\u001b[39;00m\n\u001b[1;32m     14\u001b[0m         \u001b[38;5;28;01mreturn\u001b[39;00m \u001b[38;5;124m'\u001b[39m\u001b[38;5;124mdog\u001b[39m\u001b[38;5;124m'\u001b[39m \u001b[38;5;129;01min\u001b[39;00m class_names[category_ids] \u001b[38;5;28;01mif\u001b[39;00m category_ids \u001b[38;5;241m<\u001b[39m \u001b[38;5;28mlen\u001b[39m(class_names) \u001b[38;5;28;01melse\u001b[39;00m \u001b[38;5;28;01mFalse\u001b[39;00m\n\u001b[0;32m---> 16\u001b[0m dogs \u001b[38;5;241m=\u001b[39m \u001b[43mds\u001b[49m\u001b[38;5;241;43m.\u001b[39;49m\u001b[43mfilter\u001b[49m\u001b[43m(\u001b[49m\u001b[43mis_dog\u001b[49m\u001b[43m)\u001b[49m\n",
      "File \u001b[0;32m~/anaconda3/envs/albumentations_examples/lib/python3.10/site-packages/deeplake/core/dataset/dataset.py:2349\u001b[0m, in \u001b[0;36mDataset.filter\u001b[0;34m(self, function, num_workers, scheduler, progressbar, save_result, result_path, result_ds_args)\u001b[0m\n\u001b[1;32m   2338\u001b[0m deeplake_reporter\u001b[38;5;241m.\u001b[39mfeature_report(\n\u001b[1;32m   2339\u001b[0m     feature_name\u001b[38;5;241m=\u001b[39m\u001b[38;5;124m\"\u001b[39m\u001b[38;5;124mfilter\u001b[39m\u001b[38;5;124m\"\u001b[39m,\n\u001b[1;32m   2340\u001b[0m     parameters\u001b[38;5;241m=\u001b[39m{\n\u001b[0;32m   (...)\u001b[0m\n\u001b[1;32m   2345\u001b[0m     },\n\u001b[1;32m   2346\u001b[0m )\n\u001b[1;32m   2348\u001b[0m fn \u001b[38;5;241m=\u001b[39m query_dataset \u001b[38;5;28;01mif\u001b[39;00m \u001b[38;5;28misinstance\u001b[39m(function, \u001b[38;5;28mstr\u001b[39m) \u001b[38;5;28;01melse\u001b[39;00m filter_dataset\n\u001b[0;32m-> 2349\u001b[0m ret \u001b[38;5;241m=\u001b[39m \u001b[43mfn\u001b[49m\u001b[43m(\u001b[49m\n\u001b[1;32m   2350\u001b[0m \u001b[43m    \u001b[49m\u001b[38;5;28;43mself\u001b[39;49m\u001b[43m,\u001b[49m\n\u001b[1;32m   2351\u001b[0m \u001b[43m    \u001b[49m\u001b[43mfunction\u001b[49m\u001b[43m,\u001b[49m\n\u001b[1;32m   2352\u001b[0m \u001b[43m    \u001b[49m\u001b[43mnum_workers\u001b[49m\u001b[38;5;241;43m=\u001b[39;49m\u001b[43mnum_workers\u001b[49m\u001b[43m,\u001b[49m\n\u001b[1;32m   2353\u001b[0m \u001b[43m    \u001b[49m\u001b[43mscheduler\u001b[49m\u001b[38;5;241;43m=\u001b[39;49m\u001b[43mscheduler\u001b[49m\u001b[43m,\u001b[49m\n\u001b[1;32m   2354\u001b[0m \u001b[43m    \u001b[49m\u001b[43mprogressbar\u001b[49m\u001b[38;5;241;43m=\u001b[39;49m\u001b[43mprogressbar\u001b[49m\u001b[43m,\u001b[49m\n\u001b[1;32m   2355\u001b[0m \u001b[43m    \u001b[49m\u001b[43msave_result\u001b[49m\u001b[38;5;241;43m=\u001b[39;49m\u001b[43msave_result\u001b[49m\u001b[43m,\u001b[49m\n\u001b[1;32m   2356\u001b[0m \u001b[43m    \u001b[49m\u001b[43mresult_path\u001b[49m\u001b[38;5;241;43m=\u001b[39;49m\u001b[43mresult_path\u001b[49m\u001b[43m,\u001b[49m\n\u001b[1;32m   2357\u001b[0m \u001b[43m    \u001b[49m\u001b[43mresult_ds_args\u001b[49m\u001b[38;5;241;43m=\u001b[39;49m\u001b[43mresult_ds_args\u001b[49m\u001b[43m,\u001b[49m\n\u001b[1;32m   2358\u001b[0m \u001b[43m\u001b[49m\u001b[43m)\u001b[49m\n\u001b[1;32m   2359\u001b[0m dataset_read(\u001b[38;5;28mself\u001b[39m)\n\u001b[1;32m   2360\u001b[0m \u001b[38;5;28;01mreturn\u001b[39;00m ret\n",
      "File \u001b[0;32m~/anaconda3/envs/albumentations_examples/lib/python3.10/site-packages/deeplake/core/query/filter.py:116\u001b[0m, in \u001b[0;36mfilter_dataset\u001b[0;34m(dataset, filter_function, num_workers, scheduler, progressbar, save_result, result_path, result_ds_args)\u001b[0m\n\u001b[1;32m    114\u001b[0m     \u001b[38;5;28;01mif\u001b[39;00m vds:\n\u001b[1;32m    115\u001b[0m         vds\u001b[38;5;241m.\u001b[39minfo[\u001b[38;5;124m\"\u001b[39m\u001b[38;5;124merror\u001b[39m\u001b[38;5;124m\"\u001b[39m] \u001b[38;5;241m=\u001b[39m \u001b[38;5;28mstr\u001b[39m(e)\n\u001b[0;32m--> 116\u001b[0m     \u001b[38;5;28;01mraise\u001b[39;00m e\n\u001b[1;32m    118\u001b[0m ds \u001b[38;5;241m=\u001b[39m dataset[index_map]\n\u001b[1;32m    119\u001b[0m ds\u001b[38;5;241m.\u001b[39m_is_filtered_view \u001b[38;5;241m=\u001b[39m \u001b[38;5;28;01mTrue\u001b[39;00m\n",
      "File \u001b[0;32m~/anaconda3/envs/albumentations_examples/lib/python3.10/site-packages/deeplake/core/query/filter.py:106\u001b[0m, in \u001b[0;36mfilter_dataset\u001b[0;34m(dataset, filter_function, num_workers, scheduler, progressbar, save_result, result_path, result_ds_args)\u001b[0m\n\u001b[1;32m     96\u001b[0m         index_map \u001b[38;5;241m=\u001b[39m filter_with_compute(\n\u001b[1;32m     97\u001b[0m             dataset,\n\u001b[1;32m     98\u001b[0m             filter_function,\n\u001b[0;32m   (...)\u001b[0m\n\u001b[1;32m    103\u001b[0m             vds,\n\u001b[1;32m    104\u001b[0m         )\n\u001b[1;32m    105\u001b[0m     \u001b[38;5;28;01melse\u001b[39;00m:\n\u001b[0;32m--> 106\u001b[0m         index_map \u001b[38;5;241m=\u001b[39m \u001b[43mfilter_inplace\u001b[49m\u001b[43m(\u001b[49m\n\u001b[1;32m    107\u001b[0m \u001b[43m            \u001b[49m\u001b[43mdataset\u001b[49m\u001b[43m,\u001b[49m\n\u001b[1;32m    108\u001b[0m \u001b[43m            \u001b[49m\u001b[43mfilter_function\u001b[49m\u001b[43m,\u001b[49m\n\u001b[1;32m    109\u001b[0m \u001b[43m            \u001b[49m\u001b[43mprogressbar\u001b[49m\u001b[43m,\u001b[49m\n\u001b[1;32m    110\u001b[0m \u001b[43m            \u001b[49m\u001b[43mquery_text\u001b[49m\u001b[43m,\u001b[49m\n\u001b[1;32m    111\u001b[0m \u001b[43m            \u001b[49m\u001b[43mvds\u001b[49m\u001b[43m,\u001b[49m\n\u001b[1;32m    112\u001b[0m \u001b[43m        \u001b[49m\u001b[43m)\u001b[49m\n\u001b[1;32m    113\u001b[0m \u001b[38;5;28;01mexcept\u001b[39;00m \u001b[38;5;167;01mException\u001b[39;00m \u001b[38;5;28;01mas\u001b[39;00m e:\n\u001b[1;32m    114\u001b[0m     \u001b[38;5;28;01mif\u001b[39;00m vds:\n",
      "File \u001b[0;32m~/anaconda3/envs/albumentations_examples/lib/python3.10/site-packages/deeplake/core/query/filter.py:344\u001b[0m, in \u001b[0;36mfilter_inplace\u001b[0;34m(dataset, filter_function, progressbar, query_text, vds)\u001b[0m\n\u001b[1;32m    336\u001b[0m     \u001b[38;5;28;01mif\u001b[39;00m vds:\n\u001b[1;32m    337\u001b[0m         dataset\u001b[38;5;241m.\u001b[39m_send_query_progress(\n\u001b[1;32m    338\u001b[0m             query_text\u001b[38;5;241m=\u001b[39mquery_text,\n\u001b[1;32m    339\u001b[0m             query_id\u001b[38;5;241m=\u001b[39mquery_id,\n\u001b[0;32m   (...)\u001b[0m\n\u001b[1;32m    342\u001b[0m             status\u001b[38;5;241m=\u001b[39m\u001b[38;5;124m\"\u001b[39m\u001b[38;5;124mfailed\u001b[39m\u001b[38;5;124m\"\u001b[39m,\n\u001b[1;32m    343\u001b[0m         )\n\u001b[0;32m--> 344\u001b[0m     \u001b[38;5;28;01mraise\u001b[39;00m (e)\n\u001b[1;32m    345\u001b[0m \u001b[38;5;28;01mfinally\u001b[39;00m:\n\u001b[1;32m    346\u001b[0m     _del_counter(query_id)\n",
      "File \u001b[0;32m~/anaconda3/envs/albumentations_examples/lib/python3.10/site-packages/deeplake/core/query/filter.py:314\u001b[0m, in \u001b[0;36mfilter_inplace\u001b[0;34m(dataset, filter_function, progressbar, query_text, vds)\u001b[0m\n\u001b[1;32m    312\u001b[0m \u001b[38;5;28;01mtry\u001b[39;00m:\n\u001b[1;32m    313\u001b[0m     \u001b[38;5;28;01mfor\u001b[39;00m i, sample_in \u001b[38;5;129;01min\u001b[39;00m it:\n\u001b[0;32m--> 314\u001b[0m         \u001b[38;5;28;01mif\u001b[39;00m \u001b[43mfilter_function\u001b[49m\u001b[43m(\u001b[49m\u001b[43msample_in\u001b[49m\u001b[43m)\u001b[49m:\n\u001b[1;32m    315\u001b[0m             index_map\u001b[38;5;241m.\u001b[39mappend(i)\n\u001b[1;32m    316\u001b[0m             \u001b[38;5;28;01mif\u001b[39;00m vds:\n",
      "Cell \u001b[0;32mIn[106], line 8\u001b[0m, in \u001b[0;36mis_dog\u001b[0;34m(sample)\u001b[0m\n\u001b[1;32m      5\u001b[0m \u001b[38;5;28;01mif\u001b[39;00m \u001b[38;5;28misinstance\u001b[39m(category_ids, \u001b[38;5;28mdict\u001b[39m):\n\u001b[1;32m      6\u001b[0m     \u001b[38;5;66;03m# If category_ids is a dict, we assume the category is stored in the 'value' key\u001b[39;00m\n\u001b[1;32m      7\u001b[0m     category \u001b[38;5;241m=\u001b[39m category_ids\u001b[38;5;241m.\u001b[39mget(\u001b[38;5;124m'\u001b[39m\u001b[38;5;124mvalue\u001b[39m\u001b[38;5;124m'\u001b[39m)\n\u001b[0;32m----> 8\u001b[0m     \u001b[38;5;28;01mreturn\u001b[39;00m \u001b[38;5;124m'\u001b[39m\u001b[38;5;124mdog\u001b[39m\u001b[38;5;124m'\u001b[39m \u001b[38;5;129;01min\u001b[39;00m \u001b[43mclass_names\u001b[49m\u001b[43m[\u001b[49m\u001b[43mcategory\u001b[49m\u001b[43m]\u001b[49m \u001b[38;5;28;01mif\u001b[39;00m category \u001b[38;5;129;01mis\u001b[39;00m \u001b[38;5;129;01mnot\u001b[39;00m \u001b[38;5;28;01mNone\u001b[39;00m \u001b[38;5;28;01melse\u001b[39;00m \u001b[38;5;28;01mFalse\u001b[39;00m\n\u001b[1;32m      9\u001b[0m \u001b[38;5;28;01melif\u001b[39;00m \u001b[38;5;28misinstance\u001b[39m(category_ids, (\u001b[38;5;28mlist\u001b[39m, np\u001b[38;5;241m.\u001b[39mndarray)):\n\u001b[1;32m     10\u001b[0m     \u001b[38;5;66;03m# If category_ids is a list or array, we check each category\u001b[39;00m\n\u001b[1;32m     11\u001b[0m     \u001b[38;5;28;01mreturn\u001b[39;00m \u001b[38;5;28many\u001b[39m(\u001b[38;5;124m'\u001b[39m\u001b[38;5;124mdog\u001b[39m\u001b[38;5;124m'\u001b[39m \u001b[38;5;129;01min\u001b[39;00m class_names[cat] \u001b[38;5;28;01mfor\u001b[39;00m cat \u001b[38;5;129;01min\u001b[39;00m category_ids \u001b[38;5;28;01mif\u001b[39;00m cat \u001b[38;5;241m<\u001b[39m \u001b[38;5;28mlen\u001b[39m(class_names))\n",
      "\u001b[0;31mTypeError\u001b[0m: only integer scalar arrays can be converted to a scalar index"
     ]
    }
   ],
   "source": [
    "def is_dog(sample):\n",
    "    category_ids = sample.categories.data()\n",
    "    class_names = sample.categories.info.class_names\n",
    "\n",
    "    if isinstance(category_ids, dict):\n",
    "        # If category_ids is a dict, we assume the category is stored in the 'value' key\n",
    "        category = category_ids.get(\"value\")\n",
    "        return \"dog\" in class_names[category] if category is not None else False\n",
    "    if isinstance(category_ids, (list, np.ndarray)):\n",
    "        # If category_ids is a list or array, we check each category\n",
    "        return any(\"dog\" in class_names[cat] for cat in category_ids if cat < len(class_names))\n",
    "    # If it's a single value, we check just that one\n",
    "    return \"dog\" in class_names[category_ids] if category_ids < len(class_names) else False\n",
    "\n",
    "\n",
    "dogs = ds.filter(is_dog)"
   ]
  },
  {
   "cell_type": "code",
   "execution_count": null,
   "metadata": {},
   "outputs": [
    {
     "name": "stdout",
     "output_type": "stream",
     "text": [
      "Categories tensor info:\n",
      "{'class_names': [1, 2, 3, 4, 5, 6, 7, 8, 9, 10, 11, 13, 14, 15, 16, 17, 18, 19, 20, 21, 22, 23, 24, 25, 27, 28, 31, 32, 33, 34, 35, 36, 37, 38, 39, 40, 41, 42, 43, 44, 46, 47, 48, 49, 50, 51, 52, 53, 54, 55, 56, 57, 58, 59, 60, 61, 62, 63, 64, 65, 67, 70, 72, 73, 74, 75, 76, 77, 78, 79, 80, 81, 82, 84, 85, 86, 87, 88, 89, 90]}\n",
      "\n",
      "First few samples of categories:\n",
      "Sample 0: {'value': array([44, 67,  1, 49, 51, 51, 79,  1, 47, 47, 51, 51, 56, 50, 56, 56, 79,\n",
      "       57, 81], dtype=uint32), 'text': [50, 77, 2, 55, 57, 57, 90, 2, 53, 53, 57, 57, 62, 56, 62, 62, 90, 63, None]}\n",
      "Sample 1: {'value': array([64, 62, 62, 67, 82, 52, 79, 81, 55, 55, 55, 55, 62, 55],\n",
      "      dtype=uint32), 'text': [74, 72, 72, 77, None, 58, 90, None, 61, 61, 61, 61, 72, 61]}\n",
      "Sample 2: {'value': array([ 1,  1,  1, 28, 31, 47, 10], dtype=uint32), 'text': [2, 2, 2, 33, 36, 53, 11]}\n",
      "Sample 3: {'value': array([ 2,  1,  1,  1,  1,  1,  1,  2, 41,  1,  1,  1,  1,  1,  1,  1,  1],\n",
      "      dtype=uint32), 'text': [3, 2, 2, 2, 2, 2, 2, 3, 47, 2, 2, 2, 2, 2, 2, 2, 2]}\n",
      "Sample 4: {'value': array([ 2,  3,  3, 10, 10,  3,  3,  3,  8,  8,  8, 10], dtype=uint32), 'text': [3, 4, 4, 11, 11, 4, 4, 4, 9, 9, 9, 11]}\n",
      "\n",
      "Class names:\n",
      "[1, 2, 3, 4, 5, 6, 7, 8, 9, 10, 11, 13, 14, 15, 16, 17, 18, 19, 20, 21, 22, 23, 24, 25, 27, 28, 31, 32, 33, 34, 35, 36, 37, 38, 39, 40, 41, 42, 43, 44, 46, 47, 48, 49, 50, 51, 52, 53, 54, 55, 56, 57, 58, 59, 60, 61, 62, 63, 64, 65, 67, 70, 72, 73, 74, 75, 76, 77, 78, 79, 80, 81, 82, 84, 85, 86, 87, 88, 89, 90]\n",
      "\n",
      "Detailed single sample:\n",
      "Categories data: {'value': array([44, 67,  1, 49, 51, 51, 79,  1, 47, 47, 51, 51, 56, 50, 56, 56, 79,\n",
      "       57, 81], dtype=uint32), 'text': [50, 77, 2, 55, 57, 57, 90, 2, 53, 53, 57, 57, 62, 56, 62, 62, 90, 63, None]}\n",
      "Categories info: {'class_names': [1, 2, 3, 4, 5, 6, 7, 8, 9, 10, 11, 13, 14, 15, 16, 17, 18, 19, 20, 21, 22, 23, 24, 25, 27, 28, 31, 32, 33, 34, 35, 36, 37, 38, 39, 40, 41, 42, 43, 44, 46, 47, 48, 49, 50, 51, 52, 53, 54, 55, 56, 57, 58, 59, 60, 61, 62, 63, 64, 65, 67, 70, 72, 73, 74, 75, 76, 77, 78, 79, 80, 81, 82, 84, 85, 86, 87, 88, 89, 90]}\n",
      "Categories class names: [1, 2, 3, 4, 5, 6, 7, 8, 9, 10, 11, 13, 14, 15, 16, 17, 18, 19, 20, 21, 22, 23, 24, 25, 27, 28, 31, 32, 33, 34, 35, 36, 37, 38, 39, 40, 41, 42, 43, 44, 46, 47, 48, 49, 50, 51, 52, 53, 54, 55, 56, 57, 58, 59, 60, 61, 62, 63, 64, 65, 67, 70, 72, 73, 74, 75, 76, 77, 78, 79, 80, 81, 82, 84, 85, 86, 87, 88, 89, 90]\n",
      "Category value: [44 67  1 49 51 51 79  1 47 47 51 51 56 50 56 56 79 57 81]\n"
     ]
    }
   ],
   "source": [
    "# Print information about the categories tensor\n",
    "print(\"Categories tensor info:\")\n",
    "print(ds.categories.info)\n",
    "\n",
    "# Print the first few samples of categories\n",
    "print(\"\\nFirst few samples of categories:\")\n",
    "for i in range(5):\n",
    "    print(f\"Sample {i}:\", ds.categories[i].data())\n",
    "\n",
    "# Print class names\n",
    "print(\"\\nClass names:\")\n",
    "print(ds.categories.info.class_names)\n",
    "\n",
    "# Print a single sample in detail\n",
    "print(\"\\nDetailed single sample:\")\n",
    "sample = ds[0]\n",
    "print(\"Categories data:\", sample.categories.data())\n",
    "print(\"Categories info:\", sample.categories.info)\n",
    "print(\"Categories class names:\", sample.categories.info.class_names)\n",
    "\n",
    "# Try to access the category directly\n",
    "try:\n",
    "    category = sample.categories.data()[\"value\"]\n",
    "    print(\"Category value:\", category)\n",
    "except:\n",
    "    print(\"Failed to access category value directly\")"
   ]
  },
  {
   "cell_type": "code",
   "execution_count": null,
   "metadata": {},
   "outputs": [],
   "source": []
  }
 ],
 "metadata": {
  "language_info": {
   "name": "python"
  }
 },
 "nbformat": 4,
 "nbformat_minor": 2
}
